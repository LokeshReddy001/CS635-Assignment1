{
 "cells": [
  {
   "cell_type": "code",
   "execution_count": 2,
   "metadata": {},
   "outputs": [],
   "source": [
    "import json"
   ]
  },
  {
   "cell_type": "code",
   "execution_count": null,
   "metadata": {},
   "outputs": [],
   "source": [
    "# !wget http://curtis.ml.cmu.edu/datasets/hotpot/hotpot_dev_distractor_v1.json\n",
    "# !wget http://curtis.ml.cmu.edu/datasets/hotpot/hotpot_dev_fullwiki_v1.json\n",
    "# !wget http://curtis.ml.cmu.edu/datasets/hotpot/hotpot_train_v1.1.json\n",
    "\n",
    "# !mkdir hotpot_qa\n",
    "# !mv hotpot_dev_distractor_v1.json hotpot_qa/\n",
    "# !mv hotpot_dev_fullwiki_v1.json hotpot_qa/\n",
    "# !mv hotpot_train_v1.1.json hotpot_qa/"
   ]
  },
  {
   "cell_type": "code",
   "execution_count": 3,
   "metadata": {},
   "outputs": [],
   "source": [
    "path = \"hotpot_qa/hotpot_train_v1.1.json\"\n",
    "with open(path) as f:\n",
    "    data = json.load(f)"
   ]
  },
  {
   "cell_type": "code",
   "execution_count": 4,
   "metadata": {},
   "outputs": [
    {
     "data": {
      "text/plain": [
       "{'supporting_facts': [[\"Arthur's Magazine\", 0], ['First for Women', 0]],\n",
       " 'level': 'medium',\n",
       " 'question': \"Which magazine was started first Arthur's Magazine or First for Women?\",\n",
       " 'context': [['Radio City (Indian radio station)',\n",
       "   [\"Radio City is India's first private FM radio station and was started on 3 July 2001.\",\n",
       "    ' It broadcasts on 91.1 (earlier 91.0 in most cities) megahertz from Mumbai (where it was started in 2004), Bengaluru (started first in 2001), Lucknow and New Delhi (since 2003).',\n",
       "    ' It plays Hindi, English and regional songs.',\n",
       "    ' It was launched in Hyderabad in March 2006, in Chennai on 7 July 2006 and in Visakhapatnam October 2007.',\n",
       "    ' Radio City recently forayed into New Media in May 2008 with the launch of a music portal - PlanetRadiocity.com that offers music related news, videos, songs, and other music-related features.',\n",
       "    ' The Radio station currently plays a mix of Hindi and Regional music.',\n",
       "    ' Abraham Thomas is the CEO of the company.']],\n",
       "  ['History of Albanian football',\n",
       "   ['Football in Albania existed before the Albanian Football Federation (FSHF) was created.',\n",
       "    \" This was evidenced by the team's registration at the Balkan Cup tournament during 1929-1931, which started in 1929 (although Albania eventually had pressure from the teams because of competition, competition started first and was strong enough in the duels) .\",\n",
       "    ' Albanian National Team was founded on June 6, 1930, but Albania had to wait 16 years to play its first international match and then defeated Yugoslavia in 1946.',\n",
       "    ' In 1932, Albania joined FIFA (during the 12–16 June convention ) And in 1954 she was one of the founding members of UEFA.']],\n",
       "  ['Echosmith',\n",
       "   ['Echosmith is an American, Corporate indie pop band formed in February 2009 in Chino, California.',\n",
       "    ' Originally formed as a quartet of siblings, the band currently consists of Sydney, Noah and Graham Sierota, following the departure of eldest sibling Jamie in late 2016.',\n",
       "    ' Echosmith started first as \"Ready Set Go!\"',\n",
       "    ' until they signed to Warner Bros.',\n",
       "    ' Records in May 2012.',\n",
       "    ' They are best known for their hit song \"Cool Kids\", which reached number 13 on the \"Billboard\" Hot 100 and was certified double platinum by the RIAA with over 1,200,000 sales in the United States and also double platinum by ARIA in Australia.',\n",
       "    ' The song was Warner Bros.',\n",
       "    \" Records' fifth-biggest-selling-digital song of 2014, with 1.3 million downloads sold.\",\n",
       "    ' The band\\'s debut album, \"Talking Dreams\", was released on October 8, 2013.']],\n",
       "  [\"Women's colleges in the Southern United States\",\n",
       "   [\"Women's colleges in the Southern United States refers to undergraduate, bachelor's degree–granting institutions, often liberal arts colleges, whose student populations consist exclusively or almost exclusively of women, located in the Southern United States.\",\n",
       "    \" Many started first as girls' seminaries or academies.\",\n",
       "    ' Salem College is the oldest female educational institution in the South and Wesleyan College is the first that was established specifically as a college for women.',\n",
       "    ' Some schools, such as Mary Baldwin University and Salem College, offer coeducational courses at the graduate level.']],\n",
       "  ['First Arthur County Courthouse and Jail',\n",
       "   ['The First Arthur County Courthouse and Jail, was perhaps the smallest court house in the United States, and serves now as a museum.']],\n",
       "  [\"Arthur's Magazine\",\n",
       "   [\"Arthur's Magazine (1844–1846) was an American literary periodical published in Philadelphia in the 19th century.\",\n",
       "    ' Edited by T.S. Arthur, it featured work by Edgar A. Poe, J.H. Ingraham, Sarah Josepha Hale, Thomas G. Spear, and others.',\n",
       "    ' In May 1846 it was merged into \"Godey\\'s Lady\\'s Book\".']],\n",
       "  ['2014–15 Ukrainian Hockey Championship',\n",
       "   ['The 2014–15 Ukrainian Hockey Championship was the 23rd season of the Ukrainian Hockey Championship.',\n",
       "    ' Only four teams participated in the league this season, because of the instability in Ukraine and that most of the clubs had economical issues.',\n",
       "    ' Generals Kiev was the only team that participated in the league the previous season, and the season started first after the year-end of 2014.',\n",
       "    ' The regular season included just 12 rounds, where all the teams went to the semifinals.',\n",
       "    ' In the final, ATEK Kiev defeated the regular season winner HK Kremenchuk.']],\n",
       "  ['First for Women',\n",
       "   [\"First for Women is a woman's magazine published by Bauer Media Group in the USA.\",\n",
       "    ' The magazine was started in 1989.',\n",
       "    ' It is based in Englewood Cliffs, New Jersey.',\n",
       "    ' In 2011 the circulation of the magazine was 1,310,696 copies.']],\n",
       "  ['Freeway Complex Fire',\n",
       "   ['The Freeway Complex Fire was a 2008 wildfire in the Santa Ana Canyon area of Orange County, California.',\n",
       "    ' The fire started as two separate fires on November 15, 2008.',\n",
       "    ' The \"Freeway Fire\" started first shortly after 9am with the \"Landfill Fire\" igniting approximately 2 hours later.',\n",
       "    ' These two separate fires merged a day later and ultimately destroyed 314 residences in Anaheim Hills and Yorba Linda.']],\n",
       "  ['William Rast',\n",
       "   ['William Rast is an American clothing line founded by Justin Timberlake and Trace Ayala.',\n",
       "    ' It is most known for their premium jeans.',\n",
       "    ' On October 17, 2006, Justin Timberlake and Trace Ayala put on their first fashion show to launch their new William Rast clothing line.',\n",
       "    ' The label also produces other clothing items such as jackets and tops.',\n",
       "    ' The company started first as a denim line, later evolving into a men’s and women’s clothing line.']]],\n",
       " 'answer': \"Arthur's Magazine\",\n",
       " '_id': '5a7a06935542990198eaf050',\n",
       " 'type': 'comparison'}"
      ]
     },
     "execution_count": 4,
     "metadata": {},
     "output_type": "execute_result"
    }
   ],
   "source": [
    "data[0]"
   ]
  },
  {
   "cell_type": "code",
   "execution_count": 5,
   "metadata": {},
   "outputs": [],
   "source": [
    "import pandas as pd # type: ignore"
   ]
  },
  {
   "cell_type": "code",
   "execution_count": 6,
   "metadata": {},
   "outputs": [],
   "source": [
    "mp = {}\n",
    "for i in range(len(data)):\n",
    "    d = data[i]\n",
    "    for x,y in d['context']:\n",
    "        mp[x] = ''.join(y)"
   ]
  },
  {
   "cell_type": "code",
   "execution_count": 7,
   "metadata": {},
   "outputs": [
    {
     "data": {
      "text/html": [
       "<div>\n",
       "<style scoped>\n",
       "    .dataframe tbody tr th:only-of-type {\n",
       "        vertical-align: middle;\n",
       "    }\n",
       "\n",
       "    .dataframe tbody tr th {\n",
       "        vertical-align: top;\n",
       "    }\n",
       "\n",
       "    .dataframe thead th {\n",
       "        text-align: right;\n",
       "    }\n",
       "</style>\n",
       "<table border=\"1\" class=\"dataframe\">\n",
       "  <thead>\n",
       "    <tr style=\"text-align: right;\">\n",
       "      <th></th>\n",
       "      <th>heading</th>\n",
       "      <th>context</th>\n",
       "    </tr>\n",
       "  </thead>\n",
       "  <tbody>\n",
       "    <tr>\n",
       "      <th>0</th>\n",
       "      <td>Radio City (Indian radio station)</td>\n",
       "      <td>Radio City is India's first private FM radio s...</td>\n",
       "    </tr>\n",
       "    <tr>\n",
       "      <th>1</th>\n",
       "      <td>History of Albanian football</td>\n",
       "      <td>Football in Albania existed before the Albania...</td>\n",
       "    </tr>\n",
       "    <tr>\n",
       "      <th>2</th>\n",
       "      <td>Echosmith</td>\n",
       "      <td>Echosmith is an American, Corporate indie pop ...</td>\n",
       "    </tr>\n",
       "    <tr>\n",
       "      <th>3</th>\n",
       "      <td>Women's colleges in the Southern United States</td>\n",
       "      <td>Women's colleges in the Southern United States...</td>\n",
       "    </tr>\n",
       "    <tr>\n",
       "      <th>4</th>\n",
       "      <td>First Arthur County Courthouse and Jail</td>\n",
       "      <td>The First Arthur County Courthouse and Jail, w...</td>\n",
       "    </tr>\n",
       "  </tbody>\n",
       "</table>\n",
       "</div>"
      ],
      "text/plain": [
       "                                          heading  \\\n",
       "0               Radio City (Indian radio station)   \n",
       "1                    History of Albanian football   \n",
       "2                                       Echosmith   \n",
       "3  Women's colleges in the Southern United States   \n",
       "4         First Arthur County Courthouse and Jail   \n",
       "\n",
       "                                             context  \n",
       "0  Radio City is India's first private FM radio s...  \n",
       "1  Football in Albania existed before the Albania...  \n",
       "2  Echosmith is an American, Corporate indie pop ...  \n",
       "3  Women's colleges in the Southern United States...  \n",
       "4  The First Arthur County Courthouse and Jail, w...  "
      ]
     },
     "execution_count": 7,
     "metadata": {},
     "output_type": "execute_result"
    }
   ],
   "source": [
    "doc_df = pd.DataFrame(list(mp.items()), columns=['heading', 'context'])\n",
    "doc_df.head()"
   ]
  },
  {
   "cell_type": "code",
   "execution_count": 8,
   "metadata": {},
   "outputs": [
    {
     "data": {
      "text/plain": [
       "482021"
      ]
     },
     "execution_count": 8,
     "metadata": {},
     "output_type": "execute_result"
    }
   ],
   "source": [
    "doc_df.to_csv('train_docs.csv', index=False)\n",
    "len(doc_df)"
   ]
  },
  {
   "cell_type": "code",
   "execution_count": 9,
   "metadata": {},
   "outputs": [],
   "source": [
    "dataset = []\n",
    "for i in range(len(data)):\n",
    "    d = data[i]\n",
    "    mp = {x:''.join(y) for x,y in d['context']}\n",
    "    for l1 in d['supporting_facts']:\n",
    "        pos_doc = mp[l1[0]]\n",
    "        dataset.append({\n",
    "            'query':d['question'], \n",
    "            'pos_doc':pos_doc\n",
    "            })"
   ]
  },
  {
   "cell_type": "code",
   "execution_count": 10,
   "metadata": {},
   "outputs": [
    {
     "data": {
      "text/plain": [
       "[{'query': \"Which magazine was started first Arthur's Magazine or First for Women?\",\n",
       "  'pos_doc': 'Arthur\\'s Magazine (1844–1846) was an American literary periodical published in Philadelphia in the 19th century. Edited by T.S. Arthur, it featured work by Edgar A. Poe, J.H. Ingraham, Sarah Josepha Hale, Thomas G. Spear, and others. In May 1846 it was merged into \"Godey\\'s Lady\\'s Book\".'},\n",
       " {'query': \"Which magazine was started first Arthur's Magazine or First for Women?\",\n",
       "  'pos_doc': \"First for Women is a woman's magazine published by Bauer Media Group in the USA. The magazine was started in 1989. It is based in Englewood Cliffs, New Jersey. In 2011 the circulation of the magazine was 1,310,696 copies.\"}]"
      ]
     },
     "execution_count": 10,
     "metadata": {},
     "output_type": "execute_result"
    }
   ],
   "source": [
    "(dataset)[:2]"
   ]
  },
  {
   "cell_type": "code",
   "execution_count": 11,
   "metadata": {},
   "outputs": [
    {
     "data": {
      "text/plain": [
       "482021"
      ]
     },
     "execution_count": 11,
     "metadata": {},
     "output_type": "execute_result"
    }
   ],
   "source": [
    "df = pd.read_csv('train_docs.csv')\n",
    "all_docs = list(df.context)\n",
    "len(all_docs)"
   ]
  },
  {
   "cell_type": "code",
   "execution_count": 12,
   "metadata": {},
   "outputs": [
    {
     "data": {
      "text/plain": [
       "list"
      ]
     },
     "execution_count": 12,
     "metadata": {},
     "output_type": "execute_result"
    }
   ],
   "source": [
    "type(all_docs)"
   ]
  },
  {
   "cell_type": "code",
   "execution_count": 13,
   "metadata": {},
   "outputs": [],
   "source": [
    "final_dict = []\n",
    "N = 4\n",
    "for i in range(len(dataset)):\n",
    "    query = dataset[i]['query']\n",
    "    pos_doc = dataset[i]['pos_doc']\n",
    "    import random\n",
    "    random.seed(100*(i+1))\n",
    "    neg_docs = random.sample(all_docs, N)\n",
    "    final_dict.append({\n",
    "        'query':query,\n",
    "        'positive_document': pos_doc,\n",
    "        'negative_documents': neg_docs\n",
    "    })"
   ]
  },
  {
   "cell_type": "code",
   "execution_count": 14,
   "metadata": {},
   "outputs": [
    {
     "data": {
      "text/plain": [
       "{'query': \"Which magazine was started first Arthur's Magazine or First for Women?\",\n",
       " 'positive_document': 'Arthur\\'s Magazine (1844–1846) was an American literary periodical published in Philadelphia in the 19th century. Edited by T.S. Arthur, it featured work by Edgar A. Poe, J.H. Ingraham, Sarah Josepha Hale, Thomas G. Spear, and others. In May 1846 it was merged into \"Godey\\'s Lady\\'s Book\".',\n",
       " 'negative_documents': ['Richard Burbage (6 January 1567 – 12 March 1619) is considered the first great actor of English theatre. He is one of the most famous actors of the Globe Theatre of his time. In addition to being a stage actor he was also a theatre owner, entrepreneur and painter. He was the younger brother of Cuthbert Burbage. They were both actors in drama. Burbage was a business associate and friend to William Shakespeare.',\n",
       "  'Jack Clayton (1 March 1921 – 26 February 1995) was a British film director and producer, who specialised in bringing literary works to the screen.',\n",
       "  'Plaza Towers Elementary School is a public elementary school in Moore, Oklahoma, in the Oklahoma City metropolitan area. It is a part of Moore Public Schools. Plaza Towers is located in southwest Moore within a neighborhood of the same name. The school\\'s mascot is the panther, named \"Paws\". The school\\'s current building opened in 2014 after the previous facility was destroyed by the 2013 Moore tornado; seven students at the school died as a result of the tornado\\'s impact.',\n",
       "  'Roger Robinson is a writer, musician and performer who lives between England and Trinidad. He describes himself as \"a British resident with a Trini sensibility\". He was chosen by arts organisation Decibel as one of 50 writers who have influenced black-British writing over the past 50 years. He was a spoken-word performer in London in the early 1990s, before branching out to start performing poetry with bands he would meet, including Techno Animal, Flytronix, The Bugz, Attica Blues and Speeka. Robinson is the lead vocalist for musical crossover project King Midas Sound, whose critically acclaimed debut album \"Waiting for You\" was released on Hyperdub Records, becoming number 10 in the top 50 releases of 2009 in \"Wire Magazine\".']}"
      ]
     },
     "execution_count": 14,
     "metadata": {},
     "output_type": "execute_result"
    }
   ],
   "source": [
    "final_dict[0]"
   ]
  },
  {
   "cell_type": "code",
   "execution_count": 15,
   "metadata": {},
   "outputs": [
    {
     "data": {
      "text/plain": [
       "215684"
      ]
     },
     "execution_count": 15,
     "metadata": {},
     "output_type": "execute_result"
    }
   ],
   "source": [
    "len(final_dict)"
   ]
  },
  {
   "cell_type": "code",
   "execution_count": 16,
   "metadata": {},
   "outputs": [],
   "source": [
    "with open('train_data.json', 'w') as f:\n",
    "    json.dump(final_dict, f, indent=4)"
   ]
  },
  {
   "cell_type": "code",
   "execution_count": 18,
   "metadata": {},
   "outputs": [],
   "source": [
    "from datasets import Dataset # type: ignore\n",
    "\n",
    "dataset = Dataset.from_list(final_dict)"
   ]
  },
  {
   "cell_type": "code",
   "execution_count": 19,
   "metadata": {},
   "outputs": [
    {
     "data": {
      "text/plain": [
       "215684"
      ]
     },
     "execution_count": 19,
     "metadata": {},
     "output_type": "execute_result"
    }
   ],
   "source": [
    "len(dataset)"
   ]
  }
 ],
 "metadata": {
  "kernelspec": {
   "display_name": "Python 3",
   "language": "python",
   "name": "python3"
  },
  "language_info": {
   "codemirror_mode": {
    "name": "ipython",
    "version": 3
   },
   "file_extension": ".py",
   "mimetype": "text/x-python",
   "name": "python",
   "nbconvert_exporter": "python",
   "pygments_lexer": "ipython3",
   "version": "3.12.4"
  }
 },
 "nbformat": 4,
 "nbformat_minor": 2
}
